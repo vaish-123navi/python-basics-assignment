{
 "cells": [
  {
   "cell_type": "raw",
   "id": "e2405723-1372-4e35-8439-7a1b0dc76f22",
   "metadata": {},
   "source": [
    "                                                                FUNCTIONS"
   ]
  },
  {
   "cell_type": "raw",
   "id": "6e6bb5eb-f997-429f-8cf2-f2957cf77636",
   "metadata": {},
   "source": [
    "1. What is the difference between a function and a method in Python?\n",
    "\n",
    ">>Function: A function is a block of code that performs a task. It is not tied to any object.\n",
    "  Example:\n",
    "  def greet():\n",
    "     print(\"Hello\")\n",
    "  greet()\n",
    "  Method: A method is also a function, but it is part of an object (usually a class).\n",
    "  Example:\n",
    "  class Person:\n",
    "     def say_hello(self):\n",
    "        print(\"Hello\")\n",
    "  p = Person()\n",
    "  p.say_hello()  # say_hello is a method\n",
    "\n",
    "2.Explain the concept of function arguments and parameters in Python?\n",
    "\n",
    ">> Parameters  - These are the placeholders used in the function definition.\n",
    "   They define what kind of data the function can receive.\n",
    "   Example:\n",
    "    def greet(name):  # 'name' is a parameter\n",
    "        print(\"Hello\", name)\n",
    "   Arguments - These are the actual values you pass to the function when you call it.\n",
    "   Example:\n",
    "   greet(\"Alice\")     # \"Alice\" is an argument\n",
    "\n",
    "3. What are the different ways to define and call a function in Python?\n",
    "\n",
    ">>1. Regular Function\n",
    "  Define:\n",
    "  def greet():\n",
    "     print(\"Hello\")\n",
    "  Call:\n",
    "  greet()\n",
    "  2. Function with Parameters\n",
    "  Define:\n",
    "  def greet(name):\n",
    "     print(\"Hello\", name)\n",
    "  Call:\n",
    "  greet(\"Alice\")\n",
    " 3. Function with Default Parameters\n",
    "  Define:\n",
    "  def greet(name=\"Guest\"):\n",
    "     print(\"Hello\", name)\n",
    "  Call:\n",
    "  greet()          # Uses default\n",
    "  greet(\"Bob\")     # Overrides default\n",
    "  4. Function with Return Value\n",
    "  Define:\n",
    "  def add(a, b):\n",
    "    return a + b\n",
    "  Call:\n",
    "  result = add(3, 5)\n",
    "   print(result)\n",
    "  5. Lambda (Anonymous) Function\n",
    "  Define & Call:\n",
    "  square = lambda x: x * x\n",
    "   print(square(4))\n",
    "  6. Using Keyword Arguments\n",
    "  def introduce(name, age):\n",
    "    print(name, \"is\", age, \"years old\")\n",
    "   introduce(age=25, name=\"Sam\")  # Order doesn't matter\n",
    "  7. Variable-Length Arguments\n",
    "  *args for multiple values:\n",
    "   def total(*numbers):\n",
    "     print(sum(numbers))\n",
    "   total(1, 2, 3, 4)\n",
    "  **kwargs for keyword values:\n",
    "  def show_info(**info):\n",
    "    for key, value in info.items():\n",
    "        print(key, \":\", value)\n",
    "  show_info(name=\"Alice\", age=22)\n",
    "\n",
    "4. What is the purpose of the `return` statement in a Python function?\n",
    "\n",
    ">>The return statement in a Python function is used to send a result back to the place where the function was called.\n",
    "  Purpose of return:\n",
    " i) Gives back a value from the function.\n",
    " ii) Ends the function immediately.\n",
    " iii) Lets you store the result in a variable.\n",
    "  Example:\n",
    "  def add(a, b):\n",
    "    return a + b\n",
    " - Calling the function:\n",
    "  result = add(3, 5)\n",
    "   print(result)       # Output: 8\n",
    " - Without return:\n",
    "  If you don’t use return, the function returns None by defaut\n",
    "  def add(a, b):\n",
    "     print(a + b)     # Just prints, doesn’t return\n",
    "   x = add(3, 5)      # x will be None\n",
    "\n",
    "5. What are iterators in Python and how do they differ from iterables?\n",
    "\n",
    ">> Iterable - An iterable is any object you can loop through using a for loop.\n",
    "   It contains multiple values.\n",
    "   Examples: list, tuple, string, set, dictionary.\n",
    "   my_list = [1, 2, 3]\n",
    "   for num in my_list:\n",
    "      print(num)\n",
    "   my_list is an iterable.\n",
    "\n",
    "  Iterator - An iterator is an object that remembers its position during iteration.\n",
    "  It has two main methods:\n",
    "  __iter__() → returns the iterator object itself.\n",
    "  __next__() → returns the next value and moves forward.\n",
    "  You get an iterator by calling iter() on an iterable.\n",
    "\n",
    "   my_list = [1, 2, 3]\n",
    "  it = iter(my_list)      # it is now an iterator\n",
    "  print(next(it))  # Output: 1\n",
    "  print(next(it))  # Output: 2\n",
    "  print(next(it))  # Output: 3\n",
    "\n",
    "6.. Explain the concept of generators in Python and how they are defined.\n",
    "\n",
    ">>A generator is a special type of function that:\n",
    "  Produces a sequence of values (like an iterator).\n",
    "  Does not store all values in memory (very memory-efficient).\n",
    "  Uses the yield keyword instead of return.\n",
    "\n",
    " - to Define a Generator\n",
    "  def count_up_to(n):\n",
    "     i = 1\n",
    "     while i <= n:\n",
    "         yield i\n",
    "         i += 1\n",
    "  This function is a generator because it uses yield.\n",
    "\n",
    "7.What are the advantages of using generators over regular functions?\n",
    "\n",
    ">> 1. Memory Efficient\n",
    "    Generators do not store all values in memory.\n",
    "    They generate values one at a time only when needed.\n",
    "   Example:\n",
    "  def gen_numbers():\n",
    "    for i in range(1000000):\n",
    "        yield i\n",
    "   A regular function using return would use much more memory to store all numbers.\n",
    "  2. Faster Startup\n",
    "  Since generators don’t compute all results at once, they start faster than functions that return large lists.\n",
    "   3. Infinite Sequences\n",
    "   Generators are perfect for infinite or very large sequences, where storing all values is impossible.\n",
    "   Example:\n",
    "   def infinite_count():\n",
    "     i = 0\n",
    "     while True:\n",
    "         yield i\n",
    "         i += 1\n",
    "  4. State Saving\n",
    "   A generator remembers where it left off automatically, unlike regular functions.\n",
    "\n",
    "  5. Cleaner Code\n",
    "  Generators can simplify code for iterating large or streamed data.\n",
    "\n",
    "8. What is a lambda function in Python and when is it typically used?\n",
    "\n",
    ">>A lambda function is a small, anonymous (nameless) function defined using the lambda keyword.\n",
    "  Syntax:\n",
    "  lambda arguments: expression\n",
    "  Example:\n",
    "  square = lambda x: x * x\n",
    "  print(square(4))      \n",
    "  Output: 16\n",
    "  \n",
    " Lambda functions are used when:\n",
    " a)You need a quick, simple function.\n",
    " b)You don’t want to formally define a function with def.\n",
    " c)You’re using functions like map(), filter(), or sorted().\n",
    "\n",
    "  Example Use Case with sorted():\n",
    "  students = [(\"Alice\", 22), (\"Bob\", 20), (\"Eve\", 25)]\n",
    "  sorted_students = sorted(students, key=lambda x: x[1])\n",
    "  print(sorted_students)    # Sorts by age\n",
    "\n",
    "9. Explain the purpose and usage of the `map()` function in Python.\n",
    "\n",
    ">>The map() function is used to apply a function to every item in a list (or any iterable) and return a new map object (which is an iterator).\n",
    "  Syntax:\n",
    "  map(function, iterable)\n",
    "  function: A function to apply (can be a regular or lambda function).\n",
    "  iterable: A list, tuple, etc.\n",
    "  Example:\n",
    "  Let’s say you want to square every number in a list.\n",
    "  numbers = [1, 2, 3, 4]\n",
    "\n",
    " # Using map with a lambda function\n",
    "  squares = map(lambda x: x**2, numbers)\n",
    "   print(list(squares))  # Output: [1, 4, 9, 16]\n",
    "  Purpose of map():\n",
    "  Simplifies loops when applying the same operation to each item.\n",
    "  Works faster and cleaner than writing a for loop.\n",
    "\n",
    "10. What is the difference between `map()`, `reduce()`, and `filter()` functions in Python?\n",
    "\n",
    ">>1. map() – Transforms each item\n",
    "             Applies a function to every item in an iterable.\n",
    "             Returns a new iterable with transformed values.\n",
    "\n",
    "  numbers = [1, 2, 3, 4]\n",
    "  result = map(lambda x: x * 2, numbers)\n",
    "  print(list(result))  # Output: [2, 4, 6, 8]\n",
    " 2. filter() – Filters items\n",
    "               Applies a function to each item and keeps only those that return True.\n",
    "               Returns a new iterable with filtered values.\n",
    "\n",
    "  numbers = [1, 2, 3, 4]\n",
    "  result = filter(lambda x: x % 2 == 0, numbers)\n",
    "  print(list(result))  # Output: [2, 4]\n",
    " 3. reduce() – Reduces all items to a single value\n",
    "               Applies a function to combine items one by one.\n",
    "               Returns a single result.\n",
    "               Must import from functools .\n",
    "  from functools import reduce\n",
    "  numbers = [1, 2, 3, 4]\n",
    "  result = reduce(lambda x, y: x + y, numbers)\n",
    "  print(result)  # Output: 10\n",
    "\n",
    "11. Using pen & Paper write the internal mechanism for sum operation using  reduce function on this given\n",
    "   list:[47,11,42,13]; \n",
    "\n",
    ">> answer submitted in drive file .\n"
   ]
  },
  {
   "cell_type": "code",
   "execution_count": 3,
   "id": "a6a914d8-f1e6-466e-a9bb-8c4eb6f75faa",
   "metadata": {},
   "outputs": [
    {
     "name": "stdout",
     "output_type": "stream",
     "text": [
      "12\n"
     ]
    }
   ],
   "source": [
    "#1. Write a Python function that takes a list of numbers as input and returns the sum of all even numbers in\n",
    "#the list.\n",
    "def sum_of_even_numbers(numbers):\n",
    "    return sum(num for num in numbers if num % 2 == 0)\n",
    "    my_list = [1, 2, 3, 4, 5, 6]\n",
    "result = sum_of_even_numbers(my_list)\n",
    "print(result)  "
   ]
  },
  {
   "cell_type": "code",
   "execution_count": 4,
   "id": "e9dfb62b-6f0e-4918-81ae-1856e9823e89",
   "metadata": {},
   "outputs": [
    {
     "name": "stdout",
     "output_type": "stream",
     "text": [
      "olleh\n"
     ]
    }
   ],
   "source": [
    "#2. Create a Python function that accepts a string and returns the reverse of that string.\n",
    "def reverse_string(s):\n",
    "    return s[::-1]\n",
    "\n",
    "# Example \n",
    "text = \"hello\"\n",
    "reversed_text = reverse_string(text)\n",
    "print(reversed_text)  "
   ]
  },
  {
   "cell_type": "code",
   "execution_count": 5,
   "id": "81e894c6-fc98-4547-88ae-a2e505e16581",
   "metadata": {},
   "outputs": [
    {
     "name": "stdout",
     "output_type": "stream",
     "text": [
      "[1, 4, 9, 16]\n"
     ]
    }
   ],
   "source": [
    "#3. Implement a Python function that takes a list of integers and returns a new list containing the squares of\n",
    "#each number.\n",
    "def square_list(numbers):\n",
    "    return [num ** 2 for num in numbers]\n",
    "\n",
    "# Example \n",
    "nums = [1, 2, 3, 4]\n",
    "squared = square_list(nums)\n",
    "print(squared) "
   ]
  },
  {
   "cell_type": "code",
   "execution_count": 6,
   "id": "5e1bea65-e856-434c-8f15-4c3ca6573c7a",
   "metadata": {},
   "outputs": [
    {
     "name": "stdout",
     "output_type": "stream",
     "text": [
      "2 is a prime number\n",
      "3 is a prime number\n",
      "5 is a prime number\n",
      "7 is a prime number\n",
      "11 is a prime number\n",
      "13 is a prime number\n",
      "17 is a prime number\n",
      "19 is a prime number\n",
      "23 is a prime number\n",
      "29 is a prime number\n",
      "31 is a prime number\n",
      "37 is a prime number\n",
      "41 is a prime number\n",
      "43 is a prime number\n",
      "47 is a prime number\n",
      "53 is a prime number\n",
      "59 is a prime number\n",
      "61 is a prime number\n",
      "67 is a prime number\n",
      "71 is a prime number\n",
      "73 is a prime number\n",
      "79 is a prime number\n",
      "83 is a prime number\n",
      "89 is a prime number\n",
      "97 is a prime number\n",
      "101 is a prime number\n",
      "103 is a prime number\n",
      "107 is a prime number\n",
      "109 is a prime number\n",
      "113 is a prime number\n",
      "127 is a prime number\n",
      "131 is a prime number\n",
      "137 is a prime number\n",
      "139 is a prime number\n",
      "149 is a prime number\n",
      "151 is a prime number\n",
      "157 is a prime number\n",
      "163 is a prime number\n",
      "167 is a prime number\n",
      "173 is a prime number\n",
      "179 is a prime number\n",
      "181 is a prime number\n",
      "191 is a prime number\n",
      "193 is a prime number\n",
      "197 is a prime number\n",
      "199 is a prime number\n"
     ]
    }
   ],
   "source": [
    "#4. Write a Python function that checks if a given number is prime or not from 1 to 200.\n",
    "def is_prime(n):\n",
    "    if n < 2:\n",
    "        return False\n",
    "    for i in range(2, int(n**0.5) + 1):\n",
    "        if n % i == 0:\n",
    "            return False\n",
    "    return True\n",
    "\n",
    "# Example \n",
    "for num in range(1, 201):\n",
    "    if is_prime(num):\n",
    "        print(f\"{num} is a prime number\")"
   ]
  },
  {
   "cell_type": "code",
   "execution_count": 7,
   "id": "76d17025-fb8d-4745-af00-116b91307b5c",
   "metadata": {},
   "outputs": [
    {
     "name": "stdout",
     "output_type": "stream",
     "text": [
      "0\n",
      "1\n",
      "1\n",
      "2\n",
      "3\n",
      "5\n",
      "8\n",
      "13\n",
      "21\n",
      "34\n"
     ]
    }
   ],
   "source": [
    "#5. Create an iterator class in Python that generates the Fibonacci sequence up to a specified number of terms.\n",
    "class FibonacciIterator:\n",
    "    def __init__(self, n_terms):\n",
    "        self.n_terms = n_terms\n",
    "        self.count = 0\n",
    "        self.a = 0\n",
    "        self.b = 1\n",
    "\n",
    "    def __iter__(self):\n",
    "        return self\n",
    "\n",
    "    def __next__(self):\n",
    "        if self.count >= self.n_terms:\n",
    "            raise StopIteration\n",
    "        if self.count == 0:\n",
    "            self.count += 1\n",
    "            return 0\n",
    "        elif self.count == 1:\n",
    "            self.count += 1\n",
    "            return 1\n",
    "        else:\n",
    "            fib = self.a + self.b\n",
    "            self.a, self.b = self.b, fib\n",
    "            self.count += 1\n",
    "            return fib\n",
    "\n",
    "# Example \n",
    "fib = FibonacciIterator(10)\n",
    "for num in fib:\n",
    "    print(num)"
   ]
  },
  {
   "cell_type": "code",
   "execution_count": 8,
   "id": "afeda786-fc5d-4769-bcc2-4cf651bda6b0",
   "metadata": {},
   "outputs": [
    {
     "name": "stdout",
     "output_type": "stream",
     "text": [
      "1\n",
      "2\n",
      "4\n",
      "8\n",
      "16\n",
      "32\n"
     ]
    }
   ],
   "source": [
    "#6. Write a generator function in Python that yields the powers of 2 up to a given exponent.\n",
    "def powers_of_two(max_exp):\n",
    "    for i in range(max_exp + 1):\n",
    "        yield 2 ** i\n",
    "\n",
    "# Example \n",
    "for num in powers_of_two(5):\n",
    "    print(num)"
   ]
  },
  {
   "cell_type": "code",
   "execution_count": 10,
   "id": "fbefdcdf-4863-4d75-bba9-c2efb40ed8dd",
   "metadata": {},
   "outputs": [
    {
     "name": "stdout",
     "output_type": "stream",
     "text": [
      "Hello world\n",
      "This is a test file\n",
      "Line by line reading\n"
     ]
    }
   ],
   "source": [
    "#7. Implement a generator function that reads a file line by line and yields each line as a string.\n",
    "def read_file_lines(filename):\n",
    "    with open(filename, 'r') as file:\n",
    "        for line in file:\n",
    "            yield line.strip()\n",
    "\n",
    "# Example \n",
    "sample_text = \"\"\"Hello world\n",
    "This is a test file\n",
    "Line by line reading\"\"\"\n",
    "\n",
    "with open(\"sample.txt\", \"w\") as f:\n",
    "    f.write(sample_text)\n",
    "\n",
    "for line in read_file_lines(\"sample.txt\"):\n",
    "    print(line)"
   ]
  },
  {
   "cell_type": "code",
   "execution_count": 11,
   "id": "e9624e37-73df-4751-aef4-f943328cfd8b",
   "metadata": {},
   "outputs": [
    {
     "name": "stdout",
     "output_type": "stream",
     "text": [
      "[(5, 0), (4, 1), (2, 2), (1, 3)]\n"
     ]
    }
   ],
   "source": [
    "#8. Use a lambda function in Python to sort a list of tuples based on the second element of each tuple.\n",
    "tuples_list = [(1, 3), (4, 1), (2, 2), (5, 0)]\n",
    "sorted_list = sorted(tuples_list, key=lambda x: x[1])\n",
    "print(sorted_list)"
   ]
  },
  {
   "cell_type": "code",
   "execution_count": 12,
   "id": "ed3b4b74-f11c-4f06-974a-dbf110cec60b",
   "metadata": {},
   "outputs": [
    {
     "name": "stdout",
     "output_type": "stream",
     "text": [
      "[32.0, 68.0, 98.6, 212.0]\n"
     ]
    }
   ],
   "source": [
    "#9. Write a Python program that uses `map()` to convert a list of temperatures from Celsius to Fahrenheit.\n",
    "def celsius_to_fahrenheit(c):\n",
    "    return (c * 9/5) + 32\n",
    "\n",
    "celsius_temps = [0, 20, 37, 100]\n",
    "\n",
    "fahrenheit_temps = list(map(celsius_to_fahrenheit, celsius_temps))\n",
    "\n",
    "print(fahrenheit_temps)"
   ]
  },
  {
   "cell_type": "code",
   "execution_count": 13,
   "id": "68d60c6a-4e3c-498a-8422-a33d59541423",
   "metadata": {},
   "outputs": [
    {
     "name": "stdout",
     "output_type": "stream",
     "text": [
      "Hll Wrld\n"
     ]
    }
   ],
   "source": [
    "#10. Create a Python program that uses `filter()` to remove all the vowels from a given string.\n",
    "def remove_vowels(s):\n",
    "    vowels = 'aeiouAEIOU'\n",
    "    return ''.join(filter(lambda ch: ch not in vowels, s))\n",
    "\n",
    "# Example \n",
    "input_str = \"Hello World\"\n",
    "result = remove_vowels(input_str)\n",
    "print(result)"
   ]
  },
  {
   "cell_type": "code",
   "execution_count": 16,
   "id": "1a44c8d2-b801-46d6-95dc-c49daf1a929c",
   "metadata": {},
   "outputs": [
    {
     "name": "stdout",
     "output_type": "stream",
     "text": [
      "[(34587, 163.8), (98762, 3180.7999999999997), (77226, 108.85000000000001), (88112, 124.94999999999999)]\n"
     ]
    }
   ],
   "source": [
    "'''11) Imagine an accounting routine used in a book shop. It works on a list with sublists, which look like this:\n",
    "\n",
    "Write a Python program, which returns a list with 2-tuples. Each tuple consists of the order number and the\n",
    "product of the price per item and the quantity. The product should be increased by 10,- € if the value of the\n",
    "order is smaller than 100,00 €.\n",
    "\n",
    "Write a Python program using lambda and map\n",
    "\n",
    "'''\n",
    "orders = [ [34587, \"Learning Python, Mark Lutz\", 4, 40.95],\n",
    "    [98762, \"Programming Python, Mark Lutz\", 56, 56.80],\n",
    "    [77226, \"Head First Python, Paul Barry\", 3, 32.95],\n",
    "    [88112, \"Einführung in Python3, Bernd Klein\", 5, 24.99]]\n",
    "\n",
    "result = list(map(lambda order: (order[0],\n",
    "        order[2] * order[3] + (10 if order[2] * order[3] < 100 else 0) ), orders))\n",
    "\n",
    "print(result)"
   ]
  },
  {
   "cell_type": "code",
   "execution_count": null,
   "id": "667bbc53-b90c-4e58-badf-459b5b24ffb6",
   "metadata": {},
   "outputs": [],
   "source": []
  }
 ],
 "metadata": {
  "kernelspec": {
   "display_name": "Python 3 (ipykernel)",
   "language": "python",
   "name": "python3"
  },
  "language_info": {
   "codemirror_mode": {
    "name": "ipython",
    "version": 3
   },
   "file_extension": ".py",
   "mimetype": "text/x-python",
   "name": "python",
   "nbconvert_exporter": "python",
   "pygments_lexer": "ipython3",
   "version": "3.13.3"
  }
 },
 "nbformat": 4,
 "nbformat_minor": 5
}
